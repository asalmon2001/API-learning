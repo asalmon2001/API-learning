{
 "cells": [
  {
   "cell_type": "markdown",
   "id": "ac51357d-4c09-4bd9-90ce-fdc41b04e768",
   "metadata": {},
   "source": [
    "# Welcome\n",
    "This is where I will be following along with the tutorial (https://https://www.dataquest.io/blog/python-api-tutorial/) and documenting everything I'm doing"
   ]
  },
  {
   "cell_type": "markdown",
   "id": "2ecb6bf9-90ce-4193-b5cb-257177141d1e",
   "metadata": {},
   "source": [
    "# Setting Up 'Requests'"
   ]
  },
  {
   "cell_type": "code",
   "execution_count": null,
   "id": "a217fc49-69b7-486a-8c16-a72bb7a2ef9d",
   "metadata": {},
   "outputs": [],
   "source": [
    "- Ran `pip install requests` in the terminal\n",
    "- Turns out I already had it :)"
   ]
  },
  {
   "cell_type": "code",
   "execution_count": 1,
   "id": "b587367a-d1b1-4b3a-a4d8-9cedc6103fd8",
   "metadata": {},
   "outputs": [],
   "source": [
    "import requests"
   ]
  },
  {
   "cell_type": "markdown",
   "id": "44629c5a-59ca-44c1-9b29-704a2eda73b4",
   "metadata": {},
   "source": [
    "# First Requests\n",
    "\n"
   ]
  },
  {
   "cell_type": "code",
   "execution_count": 8,
   "id": "b2a8e942-a628-4209-a6b6-e4f461cd7d55",
   "metadata": {},
   "outputs": [],
   "source": [
    "# testing to see what a responses look like\n",
    "response = requests.get(\"https://api.open-notify.org/this-api-doesnt-exist\")\n"
   ]
  },
  {
   "cell_type": "markdown",
   "id": "ee3f4bdd-e768-4123-9ff3-7abc4c88f2d8",
   "metadata": {},
   "source": [
    "So, the tutorial is from a couple years ago and that url above does not work. I just tried it with another API and it worked.\n",
    "We will continue with the tutorial but just be cautious of other errors :)"
   ]
  },
  {
   "cell_type": "code",
   "execution_count": 16,
   "id": "b04fea7d-0113-44b2-9ef8-f07e3575d6e8",
   "metadata": {},
   "outputs": [],
   "source": [
    "# new request from another site\n",
    "response = requests.get(\"http://api.open-notify.org/astros.json\")"
   ]
  },
  {
   "cell_type": "code",
   "execution_count": 17,
   "id": "2f74a5db-770f-4046-beb9-bf3e2425d600",
   "metadata": {},
   "outputs": [
    {
     "name": "stdout",
     "output_type": "stream",
     "text": [
      "200\n"
     ]
    }
   ],
   "source": [
    "print(response.status_code)"
   ]
  },
  {
   "cell_type": "code",
   "execution_count": 18,
   "id": "c1c20aaf-64ec-473d-ad50-c77fda104815",
   "metadata": {},
   "outputs": [
    {
     "name": "stdout",
     "output_type": "stream",
     "text": [
      "{'number': 10, 'people': [{'craft': 'ISS', 'name': 'Sergey Prokopyev'}, {'craft': 'ISS', 'name': 'Dmitry Petelin'}, {'craft': 'ISS', 'name': 'Frank Rubio'}, {'craft': 'Tiangong', 'name': 'Jing Haiping'}, {'craft': 'Tiangong', 'name': 'Gui Haichow'}, {'craft': 'Tiangong', 'name': 'Zhu Yangzhu'}, {'craft': 'ISS', 'name': 'Jasmin Moghbeli'}, {'craft': 'ISS', 'name': 'Andreas Mogensen'}, {'craft': 'ISS', 'name': 'Satoshi Furukawa'}, {'craft': 'ISS', 'name': 'Konstantin Borisov'}], 'message': 'success'}\n"
     ]
    }
   ],
   "source": [
    "print(response.json())"
   ]
  },
  {
   "cell_type": "markdown",
   "id": "c1b90ac9-65a1-470c-87fa-d9e129361502",
   "metadata": {},
   "source": [
    "# Using .json"
   ]
  },
  {
   "cell_type": "code",
   "execution_count": 19,
   "id": "445f2e1f-d277-4a8d-955a-223ce8b5ebc6",
   "metadata": {},
   "outputs": [],
   "source": [
    "import json"
   ]
  },
  {
   "cell_type": "code",
   "execution_count": 28,
   "id": "90638a05-3615-4243-adcf-05691227a1e8",
   "metadata": {},
   "outputs": [
    {
     "name": "stdout",
     "output_type": "stream",
     "text": [
      "{\n",
      "  \"message\": \"success\",\n",
      "  \"number\": 10,\n",
      "  \"people\": [\n",
      "    {\n",
      "      \"craft\": \"ISS\",\n",
      "      \"name\": \"Sergey Prokopyev\"\n",
      "    },\n",
      "    {\n",
      "      \"craft\": \"ISS\",\n",
      "      \"name\": \"Dmitry Petelin\"\n",
      "    },\n",
      "    {\n",
      "      \"craft\": \"ISS\",\n",
      "      \"name\": \"Frank Rubio\"\n",
      "    },\n",
      "    {\n",
      "      \"craft\": \"Tiangong\",\n",
      "      \"name\": \"Jing Haiping\"\n",
      "    },\n",
      "    {\n",
      "      \"craft\": \"Tiangong\",\n",
      "      \"name\": \"Gui Haichow\"\n",
      "    },\n",
      "    {\n",
      "      \"craft\": \"Tiangong\",\n",
      "      \"name\": \"Zhu Yangzhu\"\n",
      "    },\n",
      "    {\n",
      "      \"craft\": \"ISS\",\n",
      "      \"name\": \"Jasmin Moghbeli\"\n",
      "    },\n",
      "    {\n",
      "      \"craft\": \"ISS\",\n",
      "      \"name\": \"Andreas Mogensen\"\n",
      "    },\n",
      "    {\n",
      "      \"craft\": \"ISS\",\n",
      "      \"name\": \"Satoshi Furukawa\"\n",
      "    },\n",
      "    {\n",
      "      \"craft\": \"ISS\",\n",
      "      \"name\": \"Konstantin Borisov\"\n",
      "    }\n",
      "  ]\n",
      "}\n"
     ]
    }
   ],
   "source": [
    "text = json.dumps(obj=response.json(), sort_keys=True, indent=2)\n",
    "print(text)"
   ]
  },
  {
   "cell_type": "markdown",
   "id": "40666c5b-206e-4ad5-8784-b1da49e423ec",
   "metadata": {},
   "source": [
    "So, that is basically the end of what I can do. Since the tutorial is old, the APIs that were used are not longer available.\n",
    "Thats alright. The only thing left in the tutorial was making API calls with paramaters which is fairly straightforward.\n",
    "Just cant forget to pass the parameters as a set :)"
   ]
  },
  {
   "cell_type": "code",
   "execution_count": null,
   "id": "5253af95-946e-41de-9901-8cef9703b971",
   "metadata": {},
   "outputs": [],
   "source": []
  }
 ],
 "metadata": {
  "kernelspec": {
   "display_name": "Python 3 (ipykernel)",
   "language": "python",
   "name": "python3"
  },
  "language_info": {
   "codemirror_mode": {
    "name": "ipython",
    "version": 3
   },
   "file_extension": ".py",
   "mimetype": "text/x-python",
   "name": "python",
   "nbconvert_exporter": "python",
   "pygments_lexer": "ipython3",
   "version": "3.11.4"
  }
 },
 "nbformat": 4,
 "nbformat_minor": 5
}
